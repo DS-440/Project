{
 "cells": [
  {
   "cell_type": "code",
   "execution_count": 1,
   "id": "extraordinary-chinese",
   "metadata": {},
   "outputs": [],
   "source": [
    "from skimage.exposure import is_low_contrast\n",
    "from skimage import io\n",
    "import os\n",
    "import cv2\n",
    "import numpy as np\n",
    "import pandas as pd"
   ]
  },
  {
   "cell_type": "code",
   "execution_count": 2,
   "id": "functional-security",
   "metadata": {},
   "outputs": [],
   "source": [
    "rekog_results_dir = \"C:/Users/User/Desktop/INSTAGRAM/\"\n",
    "\n",
    "# Path to where your images are\n",
    "rekog_images_dir = \"C:/Users/User/Desktop/INSTAGRAM/\""
   ]
  },
  {
   "cell_type": "code",
   "execution_count": 3,
   "id": "damaged-payday",
   "metadata": {},
   "outputs": [],
   "source": [
    "# Make a list of all the images in the rekog_data_dir you created\n",
    "local_images = os.listdir(rekog_images_dir)"
   ]
  },
  {
   "cell_type": "code",
   "execution_count": 4,
   "id": "departmental-ribbon",
   "metadata": {},
   "outputs": [],
   "source": [
    "contrast_values = []\n",
    "image_names = []"
   ]
  },
  {
   "cell_type": "code",
   "execution_count": 5,
   "id": "automotive-cattle",
   "metadata": {},
   "outputs": [],
   "source": [
    "for imageFile in local_images:\n",
    "    #image = cv2.imread(rekog_images_dir + imageFile) # Read the image\n",
    "    image = io.imread(rekog_images_dir + imageFile)\n",
    "    image = np.array(image)\n",
    "    #contrast = is_low_contrast(image) # Contrast or not\n",
    "    contrast = is_low_contrast(image, fraction_threshold=0.20, lower_percentile=20, upper_percentile=100) # Contrast or not\n",
    "    if contrast: # An einai to contrast true (pou simainei LOW contrast)\n",
    "        contrast_values.append('LOW')\n",
    "    else:\n",
    "        contrast_values.append('HIGH')\n",
    "        \n",
    "    image_names.append(imageFile)"
   ]
  },
  {
   "cell_type": "code",
   "execution_count": 13,
   "id": "hawaiian-blogger",
   "metadata": {},
   "outputs": [
    {
     "data": {
      "text/html": [
       "<div>\n",
       "<style scoped>\n",
       "    .dataframe tbody tr th:only-of-type {\n",
       "        vertical-align: middle;\n",
       "    }\n",
       "\n",
       "    .dataframe tbody tr th {\n",
       "        vertical-align: top;\n",
       "    }\n",
       "\n",
       "    .dataframe thead th {\n",
       "        text-align: right;\n",
       "    }\n",
       "</style>\n",
       "<table border=\"1\" class=\"dataframe\">\n",
       "  <thead>\n",
       "    <tr style=\"text-align: right;\">\n",
       "      <th></th>\n",
       "    </tr>\n",
       "  </thead>\n",
       "  <tbody>\n",
       "  </tbody>\n",
       "</table>\n",
       "</div>"
      ],
      "text/plain": [
       "Empty DataFrame\n",
       "Columns: []\n",
       "Index: []"
      ]
     },
     "execution_count": 13,
     "metadata": {},
     "output_type": "execute_result"
    }
   ],
   "source": [
    "df = pd.DataFrame()\n",
    "df"
   ]
  },
  {
   "cell_type": "code",
   "execution_count": 14,
   "id": "naughty-dictionary",
   "metadata": {},
   "outputs": [],
   "source": [
    "df['image_id'] = image_names\n",
    "df['Contrast'] = contrast_values"
   ]
  },
  {
   "cell_type": "code",
   "execution_count": 15,
   "id": "colored-helping",
   "metadata": {},
   "outputs": [
    {
     "data": {
      "text/html": [
       "<div>\n",
       "<style scoped>\n",
       "    .dataframe tbody tr th:only-of-type {\n",
       "        vertical-align: middle;\n",
       "    }\n",
       "\n",
       "    .dataframe tbody tr th {\n",
       "        vertical-align: top;\n",
       "    }\n",
       "\n",
       "    .dataframe thead th {\n",
       "        text-align: right;\n",
       "    }\n",
       "</style>\n",
       "<table border=\"1\" class=\"dataframe\">\n",
       "  <thead>\n",
       "    <tr style=\"text-align: right;\">\n",
       "      <th></th>\n",
       "      <th>image_id</th>\n",
       "      <th>Contrast</th>\n",
       "    </tr>\n",
       "  </thead>\n",
       "  <tbody>\n",
       "    <tr>\n",
       "      <th>0</th>\n",
       "      <td>121824333_1780170455456980_1945710384918790628...</td>\n",
       "      <td>HIGH</td>\n",
       "    </tr>\n",
       "    <tr>\n",
       "      <th>1</th>\n",
       "      <td>121968037_675216890074396_7745071755117364219_...</td>\n",
       "      <td>HIGH</td>\n",
       "    </tr>\n",
       "    <tr>\n",
       "      <th>2</th>\n",
       "      <td>121969359_1514124702115403_7612990989954934559...</td>\n",
       "      <td>HIGH</td>\n",
       "    </tr>\n",
       "    <tr>\n",
       "      <th>3</th>\n",
       "      <td>121972372_384988435991392_6290850303008840320_...</td>\n",
       "      <td>HIGH</td>\n",
       "    </tr>\n",
       "    <tr>\n",
       "      <th>4</th>\n",
       "      <td>122026324_625512811474271_6945540037480226640_...</td>\n",
       "      <td>HIGH</td>\n",
       "    </tr>\n",
       "    <tr>\n",
       "      <th>...</th>\n",
       "      <td>...</td>\n",
       "      <td>...</td>\n",
       "    </tr>\n",
       "    <tr>\n",
       "      <th>1552</th>\n",
       "      <td>246150341_277626691034227_5683683811828674721_...</td>\n",
       "      <td>HIGH</td>\n",
       "    </tr>\n",
       "    <tr>\n",
       "      <th>1553</th>\n",
       "      <td>246189718_110998627919217_3496746933212668181_...</td>\n",
       "      <td>HIGH</td>\n",
       "    </tr>\n",
       "    <tr>\n",
       "      <th>1554</th>\n",
       "      <td>246243318_591457412200065_2273848385719141982_...</td>\n",
       "      <td>HIGH</td>\n",
       "    </tr>\n",
       "    <tr>\n",
       "      <th>1555</th>\n",
       "      <td>246461955_1046939852707517_1615270582813630673...</td>\n",
       "      <td>HIGH</td>\n",
       "    </tr>\n",
       "    <tr>\n",
       "      <th>1556</th>\n",
       "      <td>247126956_597069661748231_5729727604090768759_...</td>\n",
       "      <td>HIGH</td>\n",
       "    </tr>\n",
       "  </tbody>\n",
       "</table>\n",
       "<p>1557 rows × 2 columns</p>\n",
       "</div>"
      ],
      "text/plain": [
       "                                               image_id Contrast\n",
       "0     121824333_1780170455456980_1945710384918790628...     HIGH\n",
       "1     121968037_675216890074396_7745071755117364219_...     HIGH\n",
       "2     121969359_1514124702115403_7612990989954934559...     HIGH\n",
       "3     121972372_384988435991392_6290850303008840320_...     HIGH\n",
       "4     122026324_625512811474271_6945540037480226640_...     HIGH\n",
       "...                                                 ...      ...\n",
       "1552  246150341_277626691034227_5683683811828674721_...     HIGH\n",
       "1553  246189718_110998627919217_3496746933212668181_...     HIGH\n",
       "1554  246243318_591457412200065_2273848385719141982_...     HIGH\n",
       "1555  246461955_1046939852707517_1615270582813630673...     HIGH\n",
       "1556  247126956_597069661748231_5729727604090768759_...     HIGH\n",
       "\n",
       "[1557 rows x 2 columns]"
      ]
     },
     "execution_count": 15,
     "metadata": {},
     "output_type": "execute_result"
    }
   ],
   "source": [
    "df"
   ]
  },
  {
   "cell_type": "code",
   "execution_count": 16,
   "id": "varied-hours",
   "metadata": {},
   "outputs": [],
   "source": [
    "df = df.to_csv('contrasts_insta.csv', index=False)"
   ]
  },
  {
   "cell_type": "code",
   "execution_count": null,
   "id": "final-programmer",
   "metadata": {},
   "outputs": [],
   "source": []
  }
 ],
 "metadata": {
  "kernelspec": {
   "display_name": "Python 3 (ipykernel)",
   "language": "python",
   "name": "python3"
  },
  "language_info": {
   "codemirror_mode": {
    "name": "ipython",
    "version": 3
   },
   "file_extension": ".py",
   "mimetype": "text/x-python",
   "name": "python",
   "nbconvert_exporter": "python",
   "pygments_lexer": "ipython3",
   "version": "3.7.11"
  }
 },
 "nbformat": 4,
 "nbformat_minor": 5
}
