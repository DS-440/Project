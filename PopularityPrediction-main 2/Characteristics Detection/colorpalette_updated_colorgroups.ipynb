{
 "cells": [
  {
   "cell_type": "code",
   "execution_count": 1,
   "id": "economic-fiber",
   "metadata": {
    "colab": {
     "base_uri": "https://localhost:8080/",
     "height": 393
    },
    "executionInfo": {
     "elapsed": 42,
     "status": "error",
     "timestamp": 1639232430925,
     "user": {
      "displayName": "Elina Koutromanou",
      "photoUrl": "https://lh3.googleusercontent.com/a-/AOh14GgUrQvj_-D1ksr123TPSLKc_wM95qs3DvnPkE-Ohw=s64",
      "userId": "12854382207666541002"
     },
     "user_tz": -120
    },
    "id": "democratic-metro",
    "outputId": "812a7a89-7ada-404a-d55d-fb913da58a4d"
   },
   "outputs": [
    {
     "ename": "ModuleNotFoundError",
     "evalue": "No module named 'colorthief'",
     "output_type": "error",
     "traceback": [
      "\u001b[0;31m---------------------------------------------------------------------------\u001b[0m",
      "\u001b[0;31mModuleNotFoundError\u001b[0m                       Traceback (most recent call last)",
      "Cell \u001b[0;32mIn[1], line 1\u001b[0m\n\u001b[0;32m----> 1\u001b[0m \u001b[38;5;28;01mfrom\u001b[39;00m \u001b[38;5;21;01mcolorthief\u001b[39;00m \u001b[38;5;28;01mimport\u001b[39;00m ColorThief\n\u001b[1;32m      2\u001b[0m \u001b[38;5;28;01mimport\u001b[39;00m \u001b[38;5;21;01mwebcolors\u001b[39;00m\n\u001b[1;32m      3\u001b[0m \u001b[38;5;28;01mimport\u001b[39;00m \u001b[38;5;21;01mnumpy\u001b[39;00m \u001b[38;5;28;01mas\u001b[39;00m \u001b[38;5;21;01mnp\u001b[39;00m\n",
      "\u001b[0;31mModuleNotFoundError\u001b[0m: No module named 'colorthief'"
     ]
    }
   ],
   "source": [
    "from colorthief import ColorThief\n",
    "import webcolors\n",
    "import numpy as np\n",
    "import pandas as pd\n",
    "from sklearn.metrics import mean_squared_error\n",
    "import os"
   ]
  },
  {
   "cell_type": "code",
   "execution_count": null,
   "id": "every-future",
   "metadata": {
    "id": "spatial-christmas"
   },
   "outputs": [],
   "source": [
    "rekog_images_dir = \"C:/Users/User/Desktop/test/\""
   ]
  },
  {
   "cell_type": "code",
   "execution_count": null,
   "id": "wicked-western",
   "metadata": {
    "id": "suburban-tourism"
   },
   "outputs": [],
   "source": [
    "local_images = os.listdir(rekog_images_dir) # Get all image names"
   ]
  },
  {
   "cell_type": "code",
   "execution_count": null,
   "id": "genetic-township",
   "metadata": {},
   "outputs": [],
   "source": [
    "def is_css3_color(instance):\n",
    "        if instance.lower() in webcolors.css3_names_to_hex:\n",
    "            return True\n",
    "        return is_css_color_code(instance) "
   ]
  },
  {
   "cell_type": "code",
   "execution_count": null,
   "id": "dirty-fusion",
   "metadata": {},
   "outputs": [],
   "source": [
    "def check_color(color_name):\n",
    "    #Define colors\n",
    "    PINK = ['pink', 'lightpink', 'hotpink', 'deeppink', 'palevioletred', 'mediumvioletred']\n",
    "    PURPLE = ['lavender', 'thistle', 'plum', 'orchid', 'violet', 'fuchsia', 'magenta', 'mediumorchid', 'darkorchid', 'darkviolet', 'blueviolet', 'darkmagenta',  'purple',  'mediumpurple',  'mediumslateblue', 'slateblue', 'darkslateblue', 'rebeccapurple',  'indigo']\n",
    "    RED = ['lightsalmon', 'salmon', 'darksalmon', 'lightcoral', 'indianred', 'crimson', 'red', 'firebrick', 'darkred']\n",
    "    ORANGE = ['orange', 'darkorange', 'coral', 'tomato', 'orangered']\n",
    "    YELLOW = ['gold', 'yellow', 'lightyellow', 'lemonchiffon', 'lightgoldenrodyellow', 'papayawhip', 'moccasin', 'peachpuff',  'palegoldenrod', 'khaki', 'darkkhaki']\n",
    "    GREEN = ['greenyellow', 'chartreuse',  'lawngreen', 'lime',  'limegreen', 'palegreen', 'lightgreen', 'mediumspringgreen', 'springgreen', 'mediumseagreen', 'seagreen', 'forestgreen', 'green', 'darkgreen', 'yellowgreen', 'olivedrab', 'darkolivegreen', 'mediumaquamarine', 'darkseagreen', 'lightseagreen',  'darkcyan',  'teal']\n",
    "    CYAN= ['aqua', 'cyan', \"darkslategray\",'lightcyan', 'paleturquoise', 'aquamarine', 'turquoise', 'mediumturquoise', 'darkturquoise']\n",
    "    BLUE=  ['cadetblue', 'steelblue', 'lightsteelblue', 'lightblue', 'powderblue', 'lightskyblue',  'skyblue', 'cornflowerblue', 'deepskyblue', 'dodgerblue', 'royalblue', 'blue', 'mediumblue',  'darkblue',  'navy',  'MidnightBlue']\n",
    "    BROWN =  ['cornsilk', 'blanchedalmond', 'bisque', 'navajowhite', 'wheat', 'burlywood', 'tan', 'rosybrown', 'sandybrown', 'goldenrod', 'darkgoldenrod',  'peru', 'chocolate', 'olive', 'saddlebrown',  'sienna',  'brown', 'maroon']\n",
    "    WHITE = ['white', 'snow', 'honeydew', 'mintcream', 'azure', 'aliceblue',  'ghostwhite', 'whitesmoke', 'seashell',  'beige', 'oldlace',  'floralwhite',  'ivory', 'antiquewhite',  'linen', 'lavenderblush',  'mistyrose']\n",
    "    GREY = [ 'gainsboro', 'lightgray', 'silver', 'darkgray', 'dimgray',  'gray',  'lightslategray', 'slategray', 'arkslategray', 'black']\n",
    "    \n",
    "    #Check cases\n",
    "    if color_name in PINK:\n",
    "        return 'pink'\n",
    "    elif color_name in PURPLE:\n",
    "        return 'purple'\n",
    "    elif color_name in RED:\n",
    "        return 'red'\n",
    "    elif color_name in ORANGE:\n",
    "        return 'orange'\n",
    "    elif color_name in YELLOW:\n",
    "        return 'yellow'\n",
    "    elif color_name in GREEN:\n",
    "        return 'green'\n",
    "    elif color_name in CYAN:\n",
    "        return 'cyan'\n",
    "    elif color_name in BLUE:\n",
    "        return 'blue'\n",
    "    elif color_name in BROWN:\n",
    "        return 'brown'\n",
    "    elif color_name in WHITE:\n",
    "        return 'white'\n",
    "    elif color_name in GREY:\n",
    "        return 'grey'\n",
    "    else:\n",
    "        return 'No color found'"
   ]
  },
  {
   "cell_type": "code",
   "execution_count": null,
   "id": "circular-outreach",
   "metadata": {
    "id": "specified-plumbing",
    "outputId": "f7db9709-1230-4f96-95f3-ab4332d62fa3"
   },
   "outputs": [
    {
     "data": {
      "text/html": [
       "<div>\n",
       "<style scoped>\n",
       "    .dataframe tbody tr th:only-of-type {\n",
       "        vertical-align: middle;\n",
       "    }\n",
       "\n",
       "    .dataframe tbody tr th {\n",
       "        vertical-align: top;\n",
       "    }\n",
       "\n",
       "    .dataframe thead th {\n",
       "        text-align: right;\n",
       "    }\n",
       "</style>\n",
       "<table border=\"1\" class=\"dataframe\">\n",
       "  <thead>\n",
       "    <tr style=\"text-align: right;\">\n",
       "      <th></th>\n",
       "      <th>image_id</th>\n",
       "      <th>dominantColor</th>\n",
       "    </tr>\n",
       "  </thead>\n",
       "  <tbody>\n",
       "    <tr>\n",
       "      <th>0</th>\n",
       "      <td>10157794368366984.png</td>\n",
       "      <td>No color found</td>\n",
       "    </tr>\n",
       "    <tr>\n",
       "      <th>1</th>\n",
       "      <td>10157851133196984.png</td>\n",
       "      <td>No color found</td>\n",
       "    </tr>\n",
       "    <tr>\n",
       "      <th>2</th>\n",
       "      <td>10158252695181984.png</td>\n",
       "      <td>No color found</td>\n",
       "    </tr>\n",
       "    <tr>\n",
       "      <th>3</th>\n",
       "      <td>10158300075271984.png</td>\n",
       "      <td>No color found</td>\n",
       "    </tr>\n",
       "    <tr>\n",
       "      <th>4</th>\n",
       "      <td>10158379134466984.png</td>\n",
       "      <td>No color found</td>\n",
       "    </tr>\n",
       "    <tr>\n",
       "      <th>5</th>\n",
       "      <td>10158734165371597.jpg</td>\n",
       "      <td>No color found</td>\n",
       "    </tr>\n",
       "    <tr>\n",
       "      <th>6</th>\n",
       "      <td>10158752555804002.png</td>\n",
       "      <td>No color found</td>\n",
       "    </tr>\n",
       "    <tr>\n",
       "      <th>7</th>\n",
       "      <td>10159083244974002.jpg</td>\n",
       "      <td>No color found</td>\n",
       "    </tr>\n",
       "    <tr>\n",
       "      <th>8</th>\n",
       "      <td>10159197337862556.jpg</td>\n",
       "      <td>No color found</td>\n",
       "    </tr>\n",
       "    <tr>\n",
       "      <th>9</th>\n",
       "      <td>10159219833562556.jpg</td>\n",
       "      <td>No color found</td>\n",
       "    </tr>\n",
       "    <tr>\n",
       "      <th>10</th>\n",
       "      <td>10159262010483798.jpg</td>\n",
       "      <td>No color found</td>\n",
       "    </tr>\n",
       "    <tr>\n",
       "      <th>11</th>\n",
       "      <td>3687813824588599.jpg</td>\n",
       "      <td>No color found</td>\n",
       "    </tr>\n",
       "    <tr>\n",
       "      <th>12</th>\n",
       "      <td>3970374213002101.png</td>\n",
       "      <td>No color found</td>\n",
       "    </tr>\n",
       "    <tr>\n",
       "      <th>13</th>\n",
       "      <td>4225869330820345.jpg</td>\n",
       "      <td>No color found</td>\n",
       "    </tr>\n",
       "    <tr>\n",
       "      <th>14</th>\n",
       "      <td>5283649135042354.jpg</td>\n",
       "      <td>No color found</td>\n",
       "    </tr>\n",
       "    <tr>\n",
       "      <th>15</th>\n",
       "      <td>5315560061851261.png</td>\n",
       "      <td>No color found</td>\n",
       "    </tr>\n",
       "  </tbody>\n",
       "</table>\n",
       "</div>"
      ],
      "text/plain": [
       "                 image_id   dominantColor\n",
       "0   10157794368366984.png  No color found\n",
       "1   10157851133196984.png  No color found\n",
       "2   10158252695181984.png  No color found\n",
       "3   10158300075271984.png  No color found\n",
       "4   10158379134466984.png  No color found\n",
       "5   10158734165371597.jpg  No color found\n",
       "6   10158752555804002.png  No color found\n",
       "7   10159083244974002.jpg  No color found\n",
       "8   10159197337862556.jpg  No color found\n",
       "9   10159219833562556.jpg  No color found\n",
       "10  10159262010483798.jpg  No color found\n",
       "11   3687813824588599.jpg  No color found\n",
       "12   3970374213002101.png  No color found\n",
       "13   4225869330820345.jpg  No color found\n",
       "14   5283649135042354.jpg  No color found\n",
       "15   5315560061851261.png  No color found"
      ]
     },
     "execution_count": 6,
     "metadata": {},
     "output_type": "execute_result"
    }
   ],
   "source": [
    "image_names = []\n",
    "color_names = []\n",
    "for imageFile in local_images:\n",
    "    color_thief = ColorThief(rekog_images_dir+imageFile)\n",
    "    dominant_color = color_thief.get_color(quality=1)\n",
    "    rms_lst = []\n",
    "    for img_clr, img_hex in webcolors.css3_names_to_hex.items():\n",
    "        cur_clr = webcolors.hex_to_rgb(img_hex)\n",
    "        rmse = np.sqrt(mean_squared_error(dominant_color, cur_clr))\n",
    "        rms_lst.append(rmse)\n",
    "    closest_color = rms_lst.index(min(rms_lst))\n",
    "    nm = list(webcolors.css3_names_to_hex.items())[closest_color][0]\n",
    "    nm = check_color(nm)\n",
    "    image_names.append(imageFile)\n",
    "    color_names.append(nm)\n",
    "    \n",
    "\n",
    "\n",
    "output_colors = pd.DataFrame([])\n",
    "output_colors['image_id'] = image_names\n",
    "output_colors['dominantColor'] = color_names\n",
    "output_colors"
   ]
  },
  {
   "cell_type": "code",
   "execution_count": null,
   "id": "personal-publisher",
   "metadata": {
    "id": "dental-diameter"
   },
   "outputs": [],
   "source": [
    "output_colors = output_colors.to_csv('test.csv', index=False)"
   ]
  }
 ],
 "metadata": {
  "colab": {
   "name": "colorpalette.ipynb",
   "provenance": []
  },
  "kernelspec": {
   "display_name": "Python 3",
   "language": "python",
   "name": "python3"
  },
  "language_info": {
   "codemirror_mode": {
    "name": "ipython",
    "version": 3
   },
   "file_extension": ".py",
   "mimetype": "text/x-python",
   "name": "python",
   "nbconvert_exporter": "python",
   "pygments_lexer": "ipython3",
   "version": "3.10.0"
  }
 },
 "nbformat": 4,
 "nbformat_minor": 5
}
